{
 "cells": [
  {
   "cell_type": "code",
   "execution_count": 2,
   "id": "5bc6de16",
   "metadata": {},
   "outputs": [],
   "source": [
    "from langchain_core.prompts import PromptTemplate\n",
    "from langchain_community.llms import Ollama\n",
    "from langchain_core.output_parsers import StrOutputParser"
   ]
  },
  {
   "cell_type": "code",
   "execution_count": 3,
   "id": "4f163132",
   "metadata": {},
   "outputs": [
    {
     "name": "stderr",
     "output_type": "stream",
     "text": [
      "C:\\Users\\ASUS\\AppData\\Local\\Temp\\ipykernel_17100\\3821948172.py:1: LangChainDeprecationWarning: The class `Ollama` was deprecated in LangChain 0.3.1 and will be removed in 1.0.0. An updated version of the class exists in the :class:`~langchain-ollama package and should be used instead. To use it run `pip install -U :class:`~langchain-ollama` and import as `from :class:`~langchain_ollama import OllamaLLM``.\n",
      "  llm= Ollama(model =\"qwen2.5vl:3b\")\n"
     ]
    }
   ],
   "source": [
    "llm= Ollama(model =\"qwen2.5vl:3b\")"
   ]
  },
  {
   "cell_type": "code",
   "execution_count": 4,
   "id": "b446ff5c",
   "metadata": {},
   "outputs": [],
   "source": [
    "prompt = PromptTemplate.from_template(\n",
    "    \"You are a helpful assistant. Answer the question: {question}\"\n",
    ")"
   ]
  },
  {
   "cell_type": "code",
   "execution_count": 5,
   "id": "e2fb6b96",
   "metadata": {},
   "outputs": [],
   "source": [
    "chain = prompt | llm | StrOutputParser()"
   ]
  },
  {
   "cell_type": "code",
   "execution_count": 6,
   "id": "1bbf0459",
   "metadata": {},
   "outputs": [
    {
     "name": "stdout",
     "output_type": "stream",
     "text": [
      "The capital of France is Paris.\n"
     ]
    }
   ],
   "source": [
    "ans = chain.invoke({\"question\": \"What is the capital of France?\"})\n",
    "print(ans)"
   ]
  },
  {
   "cell_type": "code",
   "execution_count": 7,
   "id": "a05e4221",
   "metadata": {},
   "outputs": [
    {
     "name": "stdout",
     "output_type": "stream",
     "text": [
      "Certainly! Here is an example of a simple for loop in Python that iterates over a list of numbers and prints each number:\n",
      "\n",
      "```python\n",
      "# Example list of numbers\n",
      "numbers = [1, 2, 3, 4, 5]\n",
      "\n",
      "# Loop through the list\n",
      "for number in numbers:\n",
      "    print(number)\n",
      "```\n",
      "\n",
      "This code will output:\n",
      "\n",
      "```\n",
      "1\n",
      "2\n",
      "3\n",
      "4\n",
      "5\n",
      "```\n",
      "\n",
      "If you need a more complex loop, such as iterating over a range of numbers or performing a specific action based on the loop index, please let me know!\n"
     ]
    }
   ],
   "source": [
    "ans = chain.invoke({\"question\": \"write python for loop code\"})\n",
    "print(ans)"
   ]
  },
  {
   "cell_type": "code",
   "execution_count": 8,
   "metadata": {},
   "outputs": [
    {
     "data": {
      "text/plain": [
       "'The capital of France is Paris.'"
      ]
     },
     "execution_count": 8,
     "metadata": {},
     "output_type": "execute_result"
    }
   ],
   "source": [
    "llm.invoke(\"What is the capital of France?\")"
   ]
  },
  {
   "cell_type": "code",
   "execution_count": 10,
   "id": "d4826d5f",
   "metadata": {},
   "outputs": [
    {
     "name": "stdout",
     "output_type": "stream",
     "text": [
      "Lionel Messi is a Argentine professional footballer who plays as a forward for Spanish club Barcelona and the Argentina national team. He is widely regarded as one of the greatest footballers of all time and is known for his incredible dribbling skills, vision, and ability to score goals from anywhere on the pitch. Messi has won numerous awards and accolades throughout his career, including five Ballon d'Or awards, five FIFA World Player of the Year awards, and five UEFA Champions League titles. He is also known for his philanthropy and has been involved in various charitable initiatives."
     ]
    }
   ],
   "source": [
    "stram = llm.stream(\"tell me about messi\")\n",
    "for s in stram:\n",
    "    print(s, end=\"\", flush=True)"
   ]
  },
  {
   "cell_type": "code",
   "execution_count": null,
   "id": "331807f3",
   "metadata": {},
   "outputs": [],
   "source": []
  }
 ],
 "metadata": {
  "kernelspec": {
   "display_name": "ollama_langchain",
   "language": "python",
   "name": "python3"
  },
  "language_info": {
   "codemirror_mode": {
    "name": "ipython",
    "version": 3
   },
   "file_extension": ".py",
   "mimetype": "text/x-python",
   "name": "python",
   "nbconvert_exporter": "python",
   "pygments_lexer": "ipython3",
   "version": "3.10.18"
  }
 },
 "nbformat": 4,
 "nbformat_minor": 5
}
